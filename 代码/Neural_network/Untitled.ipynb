{
 "cells": [
  {
   "cell_type": "code",
   "execution_count": 2,
   "id": "induced-bradley",
   "metadata": {},
   "outputs": [
    {
     "name": "stdout",
     "output_type": "stream",
     "text": [
      "Writing ./test1.py\n"
     ]
    }
   ],
   "source": [
    "%%writefile ./test1.py\n",
    "import numpy as np\n",
    "def A(x):\n",
    "    return x**2\n",
    "\n",
    "class B():\n",
    "    def __init__(self):\n",
    "        pass\n",
    "    def b1(self,x):\n",
    "        return x+1\n",
    "    def b2(self,x):\n",
    "        return A(x)"
   ]
  },
  {
   "cell_type": "code",
   "execution_count": null,
   "id": "charming-greece",
   "metadata": {},
   "outputs": [],
   "source": []
  }
 ],
 "metadata": {
  "kernelspec": {
   "display_name": "Python 3",
   "language": "python",
   "name": "python3"
  },
  "language_info": {
   "codemirror_mode": {
    "name": "ipython",
    "version": 3
   },
   "file_extension": ".py",
   "mimetype": "text/x-python",
   "name": "python",
   "nbconvert_exporter": "python",
   "pygments_lexer": "ipython3",
   "version": "3.7.9"
  }
 },
 "nbformat": 4,
 "nbformat_minor": 5
}
